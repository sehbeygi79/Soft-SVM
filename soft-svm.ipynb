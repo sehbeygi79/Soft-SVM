{
 "cells": [
  {
   "cell_type": "code",
   "execution_count": 1,
   "metadata": {},
   "outputs": [],
   "source": [
    "import numpy as np\n",
    "import matplotlib.pyplot as plt\n",
    "import sklearn.metrics\n",
    "import sklearn.datasets\n",
    "import cvxopt\n",
    "import scipy.spatial"
   ]
  },
  {
   "cell_type": "markdown",
   "metadata": {},
   "source": [
    "# Part 0: Loading The Dataset And Preprocessings"
   ]
  },
  {
   "cell_type": "code",
   "execution_count": 2,
   "metadata": {},
   "outputs": [],
   "source": [
    "X_train, y_train = sklearn.datasets.load_svmlight_file('./datasets/satimage.scale.tr')\n",
    "X_test, y_test = sklearn.datasets.load_svmlight_file('./datasets/satimage.scale.t')\n",
    "X_validation, y_validation = sklearn.datasets.load_svmlight_file('./datasets/satimage.scale.val')\n",
    "\n",
    "X_train = np.asarray(X_train.todense())\n",
    "X_test = np.asarray(X_test.todense())\n",
    "X_validation = np.asarray(X_validation.todense())"
   ]
  },
  {
   "cell_type": "code",
   "execution_count": 3,
   "metadata": {},
   "outputs": [],
   "source": [
    "def do_preprocessing(X, y):\n",
    "    X = X[(y == 4) | (y == 6)]\n",
    "    y = y[(y == 4) | (y == 6)].reshape(-1,1)\n",
    "    y = np.where(y == 4, -1, np.where(y == 6, 1, y))\n",
    "    return X, y\n",
    "\n",
    "X_train, y_train = do_preprocessing(X_train, y_train)\n",
    "X_test, y_test = do_preprocessing(X_test, y_test)\n",
    "X_validation, y_validation = do_preprocessing(X_validation, y_validation)"
   ]
  },
  {
   "cell_type": "code",
   "execution_count": 4,
   "metadata": {},
   "outputs": [],
   "source": [
    "def show_conf_matrix(y_test, y_hat):\n",
    "    conf_mat = sklearn.metrics.confusion_matrix(y_test, y_hat)\n",
    "    sklearn.metrics.ConfusionMatrixDisplay(confusion_matrix=conf_mat).plot()\n",
    "    plt.show()\n",
    "\n",
    "def show_metrics(y_test, y_hat):\n",
    "    acc = sklearn.metrics.accuracy_score(y_test, y_hat)\n",
    "    balanced_acc = sklearn.metrics.balanced_accuracy_score(y_test, y_hat)\n",
    "    print(f'acc = {acc}')\n",
    "    print(f'balanced acc = {balanced_acc}')    "
   ]
  },
  {
   "cell_type": "markdown",
   "metadata": {},
   "source": [
    "# Part 1: Soft-Margin SVM"
   ]
  },
  {
   "cell_type": "code",
   "execution_count": 5,
   "metadata": {},
   "outputs": [],
   "source": [
    "class SoftMarginSVM:\n",
    "    def __init__(self, C=1):\n",
    "        self.C = C\n",
    "        self.weight = None\n",
    "        self.bias = None\n",
    "\n",
    "    def train(self, X_train, y_train):\n",
    "        n = X_train.shape[0]\n",
    "\n",
    "        K = X_train * y_train\n",
    "        P = cvxopt.matrix(np.dot(K, K.T))\n",
    "        q = cvxopt.matrix(-1 * np.ones(n))\n",
    "        G = cvxopt.matrix(np.concatenate((-1 * np.identity(n), np.identity(n)), axis=0))\n",
    "        h = cvxopt.matrix(\n",
    "            np.concatenate((-1 * np.zeros(n), self.C * np.ones(n)), axis=0)\n",
    "        )\n",
    "        A = cvxopt.matrix(1.0 * y_train, (1, n))\n",
    "        b = cvxopt.matrix(0.0)\n",
    "\n",
    "        alpha = np.ravel(cvxopt.solvers.qp(P, q, G, h, A, b)[\"x\"]).reshape(-1, 1)\n",
    "\n",
    "        sv_mask = np.where((alpha > 1e-10) & (alpha <= self.C))[0]\n",
    "        self.weight = np.dot(K.T[:, sv_mask], alpha[sv_mask])\n",
    "\n",
    "        margin_sv_mask = np.where((alpha > 1e-10) & (alpha < self.C))[0]\n",
    "        self.bias = np.mean(\n",
    "            y_train[margin_sv_mask] - np.dot(X_train[margin_sv_mask, :], self.weight)\n",
    "        )\n",
    "\n",
    "    def predict(self, X):\n",
    "        y_hat = np.sign(np.dot(X, self.weight) + self.bias)\n",
    "        y_hat[y_hat == 0] = 1\n",
    "        return y_hat.squeeze()"
   ]
  },
  {
   "cell_type": "code",
   "execution_count": 6,
   "metadata": {},
   "outputs": [
    {
     "name": "stdout",
     "output_type": "stream",
     "text": [
      "     pcost       dcost       gap    pres   dres\n",
      " 0: -4.1814e+02 -2.1475e+03  1e+04  3e+00  6e-14\n",
      " 1: -2.8867e+02 -1.4286e+03  2e+03  3e-01  6e-14\n",
      " 2: -2.7710e+02 -4.7698e+02  2e+02  2e-02  5e-14\n",
      " 3: -3.0754e+02 -3.9958e+02  1e+02  8e-03  5e-14\n",
      " 4: -3.2114e+02 -3.7229e+02  5e+01  4e-03  5e-14\n",
      " 5: -3.2791e+02 -3.6008e+02  3e+01  2e-03  5e-14\n",
      " 6: -3.3417e+02 -3.4949e+02  2e+01  9e-04  5e-14\n",
      " 7: -3.3732e+02 -3.4436e+02  7e+00  3e-04  5e-14\n",
      " 8: -3.3870e+02 -3.4213e+02  3e+00  1e-04  5e-14\n",
      " 9: -3.3959e+02 -3.4086e+02  1e+00  3e-05  5e-14\n",
      "10: -3.4009e+02 -3.4022e+02  1e-01  9e-14  6e-14\n",
      "11: -3.4015e+02 -3.4016e+02  8e-03  8e-15  5e-14\n",
      "12: -3.4016e+02 -3.4016e+02  2e-04  2e-15  6e-14\n",
      "Optimal solution found.\n"
     ]
    }
   ],
   "source": [
    "sm_model = SoftMarginSVM()\n",
    "sm_model.train(X_train, y_train)"
   ]
  },
  {
   "cell_type": "code",
   "execution_count": 7,
   "metadata": {},
   "outputs": [
    {
     "data": {
      "image/png": "[encoded data removed]",
      "text/plain": [
       "<Figure size 640x480 with 2 Axes>"
      ]
     },
     "metadata": {},
     "output_type": "display_data"
    },
    {
     "name": "stdout",
     "output_type": "stream",
     "text": [
      "acc = 0.8179148311306902\n",
      "balanced acc = 0.8249924372290007\n"
     ]
    }
   ],
   "source": [
    "y_hat = sm_model.predict(X_test)\n",
    "show_conf_matrix(y_test, y_hat)\n",
    "show_metrics(y_test, y_hat)"
   ]
  },
  {
   "cell_type": "markdown",
   "metadata": {},
   "source": [
    "# Part 2: Soft-Margin SVM + RBF Kernel"
   ]
  },
  {
   "cell_type": "code",
   "execution_count": 8,
   "metadata": {},
   "outputs": [],
   "source": [
    "class SoftMarginSVMKernel:\n",
    "    def __init__(self, C=1, sigma=1):\n",
    "        self.C = C\n",
    "        self.weight = None\n",
    "        self.bias = None\n",
    "        self.sigma = sigma\n",
    "        self.sv_x = None\n",
    "        self.sv_y = None\n",
    "        self.sv_alpha = None\n",
    "\n",
    "    # vectorized version of RBF kernel\n",
    "    def calc_rbf_kernel_matrix(self, X1, X2):\n",
    "        # this function calculates the distance of each row of X1 with each row of X2\n",
    "        # exactly what we need :)\n",
    "        distance_matrix = scipy.spatial.distance_matrix(X1, X2)\n",
    "        return np.exp(-(distance_matrix**2) / ((self.sigma**2) / 2))\n",
    "\n",
    "    def train(self, X_train, y_train):\n",
    "        n = X_train.shape[0]\n",
    "\n",
    "        kernel_matrix = self.calc_rbf_kernel_matrix(X_train, X_train)\n",
    "        P = cvxopt.matrix(np.outer(y_train, y_train) * kernel_matrix)\n",
    "        q = cvxopt.matrix(-1 * np.ones(n))\n",
    "        G = cvxopt.matrix(np.concatenate((-1 * np.identity(n), np.identity(n)), axis=0))\n",
    "        h = cvxopt.matrix(\n",
    "            np.concatenate((-1 * np.zeros(n), self.C * np.ones(n)), axis=0)\n",
    "        )\n",
    "        A = cvxopt.matrix(1.0 * y_train, (1, n))\n",
    "        b = cvxopt.matrix(0.0)\n",
    "\n",
    "        alpha = np.ravel(cvxopt.solvers.qp(P, q, G, h, A, b)[\"x\"]).reshape(-1, 1)\n",
    "\n",
    "        sv_mask = np.where((alpha > 1e-10) & (alpha <= self.C))[0]\n",
    "        self.sv_x = X_train[sv_mask, :]\n",
    "        self.sv_y = y_train[sv_mask]\n",
    "        self.sv_alpha = alpha[sv_mask]\n",
    "\n",
    "        margin_sv_mask = np.where((alpha > 1e-10) & (alpha < self.C))[0]\n",
    "        first_margin_sv_x = X_train[margin_sv_mask, :][0].reshape(1, -1)\n",
    "        first_margin_sv_y = y_train[margin_sv_mask][0]\n",
    "\n",
    "        self.bias = first_margin_sv_y\n",
    "        self.bias -= (\n",
    "            np.dot(\n",
    "                self.calc_rbf_kernel_matrix(self.sv_x, first_margin_sv_x).T,\n",
    "                (self.sv_y * self.sv_alpha),\n",
    "            )\n",
    "        ).squeeze()\n",
    "\n",
    "    def predict(self, X):\n",
    "        return np.sign(\n",
    "            np.dot(\n",
    "                self.calc_rbf_kernel_matrix(X, self.sv_x), (self.sv_y * self.sv_alpha)\n",
    "            ).squeeze()\n",
    "        )"
   ]
  },
  {
   "cell_type": "code",
   "execution_count": 9,
   "metadata": {},
   "outputs": [
    {
     "name": "stdout",
     "output_type": "stream",
     "text": [
      "     pcost       dcost       gap    pres   dres\n",
      " 0: -1.8692e+02 -1.6974e+03  7e+03  2e+00  2e-15\n",
      " 1: -1.5322e+02 -9.8053e+02  1e+03  1e-01  2e-15\n",
      " 2: -1.6747e+02 -3.2750e+02  2e+02  2e-02  2e-15\n",
      " 3: -1.8610e+02 -2.2635e+02  4e+01  3e-03  2e-15\n",
      " 4: -1.9299e+02 -2.0342e+02  1e+01  4e-04  3e-15\n",
      " 5: -1.9511e+02 -1.9775e+02  3e+00  4e-05  2e-15\n",
      " 6: -1.9556e+02 -1.9670e+02  1e+00  1e-13  3e-15\n",
      " 7: -1.9585e+02 -1.9603e+02  2e-01  1e-13  3e-15\n",
      " 8: -1.9591e+02 -1.9591e+02  8e-03  3e-14  3e-15\n",
      " 9: -1.9591e+02 -1.9591e+02  2e-04  1e-13  3e-15\n",
      "Optimal solution found.\n"
     ]
    }
   ],
   "source": [
    "sm_kernel_model = SoftMarginSVMKernel()\n",
    "sm_kernel_model.train(X_train, y_train)"
   ]
  },
  {
   "cell_type": "code",
   "execution_count": 10,
   "metadata": {},
   "outputs": [
    {
     "data": {
      "image/png": "[encoded data removed]",
      "text/plain": [
       "<Figure size 640x480 with 2 Axes>"
      ]
     },
     "metadata": {},
     "output_type": "display_data"
    },
    {
     "name": "stdout",
     "output_type": "stream",
     "text": [
      "acc = 0.8707782672540382\n",
      "balanced acc = 0.8737370172431178\n"
     ]
    }
   ],
   "source": [
    "y_hat = sm_kernel_model.predict(X_test)\n",
    "show_conf_matrix(y_test, y_hat)\n",
    "show_metrics(y_test, y_hat)"
   ]
  }
 ],
 "metadata": {
  "kernelspec": {
   "display_name": "Python 3 (ipykernel)",
   "language": "python",
   "name": "python3"
  },
  "language_info": {
   "codemirror_mode": {
    "name": "ipython",
    "version": 3
   },
   "file_extension": ".py",
   "mimetype": "text/x-python",
   "name": "python",
   "nbconvert_exporter": "python",
   "pygments_lexer": "ipython3",
   "version": "3.8.10"
  }
 },
 "nbformat": 4,
 "nbformat_minor": 2
}
