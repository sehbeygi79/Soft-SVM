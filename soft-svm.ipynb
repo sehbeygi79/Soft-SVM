{
 "cells": [
  {
   "cell_type": "code",
   "execution_count": 1,
   "metadata": {},
   "outputs": [],
   "source": [
    "import numpy as np\n",
    "import matplotlib.pyplot as plt\n",
    "import sklearn.metrics\n",
    "import sklearn.datasets\n",
    "import cvxopt\n",
    "import scipy.spatial"
   ]
  },
  {
   "cell_type": "code",
   "execution_count": 2,
   "metadata": {},
   "outputs": [],
   "source": [
    "X_train, y_train = sklearn.datasets.load_svmlight_file('./datasets/satimage.scale.tr')\n",
    "X_test, y_test = sklearn.datasets.load_svmlight_file('./datasets/satimage.scale.t')\n",
    "X_validation, y_validation = sklearn.datasets.load_svmlight_file('./datasets/satimage.scale.val')\n",
    "\n",
    "X_train = np.asarray(X_train.todense())\n",
    "X_test = np.asarray(X_test.todense())\n",
    "X_validation = np.asarray(X_validation.todense())"
   ]
  },
  {
   "cell_type": "code",
   "execution_count": 3,
   "metadata": {},
   "outputs": [],
   "source": [
    "# print('train', X_train.shape, y_train.shape)\n",
    "\n",
    "def do_preprocessing(X, y):\n",
    "    X = X[(y == 4) | (y == 6)]\n",
    "    y = y[(y == 4) | (y == 6)].reshape(-1,1)\n",
    "    np.where(y == 4, -1, np.where(y == 6, 1, y))\n",
    "    return X, y\n",
    "\n",
    "X_train, y_train = do_preprocessing(X_train, y_train)\n",
    "X_test, y_test = do_preprocessing(X_test, y_test)\n",
    "X_validation, y_validation = do_preprocessing(X_validation, y_validation)\n",
    "\n",
    "# print('train', X_train.shape, y_train.shape)"
   ]
  },
  {
   "cell_type": "markdown",
   "metadata": {},
   "source": [
    "# Part1: Soft-Margin SVM"
   ]
  },
  {
   "cell_type": "code",
   "execution_count": 4,
   "metadata": {},
   "outputs": [],
   "source": []
  },
  {
   "cell_type": "markdown",
   "metadata": {},
   "source": []
  },
  {
   "cell_type": "code",
   "execution_count": null,
   "metadata": {},
   "outputs": [],
   "source": []
  }
 ],
 "metadata": {
  "kernelspec": {
   "display_name": "Python 3 (ipykernel)",
   "language": "python",
   "name": "python3"
  },
  "language_info": {
   "codemirror_mode": {
    "name": "ipython",
    "version": 3
   },
   "file_extension": ".py",
   "mimetype": "text/x-python",
   "name": "python",
   "nbconvert_exporter": "python",
   "pygments_lexer": "ipython3",
   "version": "3.8.10"
  }
 },
 "nbformat": 4,
 "nbformat_minor": 2
}
